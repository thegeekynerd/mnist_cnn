{
 "cells": [
  {
   "cell_type": "code",
   "execution_count": 1,
   "metadata": {},
   "outputs": [
    {
     "name": "stderr",
     "output_type": "stream",
     "text": [
      "Using TensorFlow backend.\n"
     ]
    }
   ],
   "source": [
    "from __future__ import division,print_function, absolute_import\n",
    "import keras\n",
    "from keras.utils import to_categorical\n",
    "import numpy as np\n",
    "import tensorflow as tf\n",
    "from matplotlib import pyplot as plt\n",
    "from keras.models import model_from_json\n",
    "import os"
   ]
  },
  {
   "cell_type": "code",
   "execution_count": 2,
   "metadata": {},
   "outputs": [],
   "source": [
    "mnist = keras.datasets.mnist\n",
    "(x_train,y_train) , (x_test , y_test) = mnist.load_data()\n",
    "x_train, x_test = x_train/225.0, x_test/225.0\n",
    "x_train = x_train.reshape(x_train.shape[0], 28, 28, 1)\n",
    "X_test = x_test.reshape(x_test.shape[0], 28, 28, 1)\n",
    "input_shape = (28, 28, 1)"
   ]
  },
  {
   "cell_type": "code",
   "execution_count": 3,
   "metadata": {},
   "outputs": [
    {
     "data": {
      "text/plain": [
       "(28, 28, 1)"
      ]
     },
     "execution_count": 3,
     "metadata": {},
     "output_type": "execute_result"
    }
   ],
   "source": [
    "y_test , y_train = to_categorical(y_test,10), to_categorical(y_train,10)\n",
    "x_train = x_train.astype('float32')\n",
    "x_test = x_test.astype('float32')\n",
    "x_train.shape[1:]"
   ]
  },
  {
   "cell_type": "code",
   "execution_count": 4,
   "metadata": {},
   "outputs": [],
   "source": [
    "model = tf.keras.models.Sequential([\n",
    "#1st layer\n",
    "# Conv2D( number_of_filters , kernal_size , input_shape(add this parameter just for the input conv layer))\n",
    "tf.keras.layers.Conv2D(64,(3,3),input_shape=x_train.shape[1:],activation='relu'),\n",
    "tf.keras.layers.Conv2D(128,(3,3),activation='relu'),\n",
    "# defining the pooling for this layer\n",
    "tf.keras.layers.MaxPooling2D(pool_size= (2,2)),\n",
    "#2nd layer\n",
    "tf.keras.layers.Conv2D(128,(3,3),activation='relu'),\n",
    "# defining the pooling for this layer\n",
    "tf.keras.layers.MaxPooling2D(pool_size= (2,2)),\n",
    "\n",
    "#FC layers\n",
    "tf.keras.layers.Dropout(0.3),\n",
    "tf.keras.layers.Flatten(),\n",
    "tf.keras.layers.Dense(128, activation = 'relu'),\n",
    "tf.keras.layers.Dropout(0.1),\n",
    "tf.keras.layers.Dense(10,activation = 'softmax')\n",
    "])\n"
   ]
  },
  {
   "cell_type": "code",
   "execution_count": 5,
   "metadata": {},
   "outputs": [
    {
     "name": "stdout",
     "output_type": "stream",
     "text": [
      "_________________________________________________________________\n",
      "Layer (type)                 Output Shape              Param #   \n",
      "=================================================================\n",
      "conv2d_1 (Conv2D)            (None, 26, 26, 64)        640       \n",
      "_________________________________________________________________\n",
      "conv2d_2 (Conv2D)            (None, 24, 24, 128)       73856     \n",
      "_________________________________________________________________\n",
      "max_pooling2d_1 (MaxPooling2 (None, 12, 12, 128)       0         \n",
      "_________________________________________________________________\n",
      "conv2d_3 (Conv2D)            (None, 10, 10, 128)       147584    \n",
      "_________________________________________________________________\n",
      "max_pooling2d_2 (MaxPooling2 (None, 5, 5, 128)         0         \n",
      "_________________________________________________________________\n",
      "dropout_1 (Dropout)          (None, 5, 5, 128)         0         \n",
      "_________________________________________________________________\n",
      "flatten_1 (Flatten)          (None, 3200)              0         \n",
      "_________________________________________________________________\n",
      "dense_1 (Dense)              (None, 128)               409728    \n",
      "_________________________________________________________________\n",
      "dropout_2 (Dropout)          (None, 128)               0         \n",
      "_________________________________________________________________\n",
      "dense_2 (Dense)              (None, 10)                1290      \n",
      "=================================================================\n",
      "Total params: 633,098\n",
      "Trainable params: 633,098\n",
      "Non-trainable params: 0\n",
      "_________________________________________________________________\n"
     ]
    }
   ],
   "source": [
    "model.summary()"
   ]
  },
  {
   "cell_type": "code",
   "execution_count": 6,
   "metadata": {},
   "outputs": [
    {
     "name": "stdout",
     "output_type": "stream",
     "text": [
      "WARNING:tensorflow:From c:\\users\\aniket\\appdata\\local\\programs\\python\\python36\\lib\\site-packages\\tensorflow\\python\\keras\\_impl\\keras\\backend.py:3086: calling reduce_sum (from tensorflow.python.ops.math_ops) with keep_dims is deprecated and will be removed in a future version.\n",
      "Instructions for updating:\n",
      "keep_dims is deprecated, use keepdims instead\n",
      "WARNING:tensorflow:From c:\\users\\aniket\\appdata\\local\\programs\\python\\python36\\lib\\site-packages\\tensorflow\\python\\keras\\_impl\\keras\\backend.py:1557: calling reduce_mean (from tensorflow.python.ops.math_ops) with keep_dims is deprecated and will be removed in a future version.\n",
      "Instructions for updating:\n",
      "keep_dims is deprecated, use keepdims instead\n",
      "Epoch 1/7\n",
      "60000/60000 [==============================]60000/60000 [==============================] - 24s 397us/step - loss: 0.2015 - acc: 0.9367\n",
      "\n",
      "Epoch 2/7\n",
      "60000/60000 [==============================]60000/60000 [==============================] - 21s 355us/step - loss: 0.0494 - acc: 0.9848000 [=============>.....\n",
      "\n",
      "Epoch 3/7\n",
      "60000/60000 [==============================]60000/60000 [==============================] - ETA: 0s - loss: 0.0357 - acc: 0.988 - 21s 353us/step - loss: 0.0356 - acc: 0.9887\n",
      "\n",
      "Epoch 4/7\n",
      "60000/60000 [==============================]60000/60000 [==============================] - 21s 354us/step - loss: 0.0286 - acc: 0.9908\n",
      "\n",
      "Epoch 5/7\n",
      "60000/60000 [==============================]60000/60000 [==============================] - 21s 352us/step - loss: 0.0218 - acc: 0.9928\n",
      "\n",
      "Epoch 6/7\n",
      "60000/60000 [==============================]60000/60000 [==============================] - 21s 352us/step - loss: 0.0184 - acc: 0.9941\n",
      "\n",
      "Epoch 7/7\n",
      "60000/60000 [==============================]60000/60000 [==============================] - 21s 352us/step - loss: 0.0163 - acc: 0.9952\n",
      "\n"
     ]
    },
    {
     "data": {
      "text/plain": [
       "<tensorflow.python.keras._impl.keras.callbacks.History at 0x242efe66748>"
      ]
     },
     "execution_count": 6,
     "metadata": {},
     "output_type": "execute_result"
    }
   ],
   "source": [
    "model.compile(optimizer = \"adam\",\n",
    "             loss = \"categorical_crossentropy\",\n",
    "             metrics = ['accuracy'])\n",
    "model.fit(x_train, y_train, batch_size = 256,epochs = 7,verbose = 1)"
   ]
  },
  {
   "cell_type": "code",
   "execution_count": 8,
   "metadata": {},
   "outputs": [
    {
     "name": "stdout",
     "output_type": "stream",
     "text": [
      "7   6\n"
     ]
    },
    {
     "data": {
      "image/png": "[encoded data removed]",
      "text/plain": [
       "<Figure size 432x288 with 2 Axes>"
      ]
     },
     "metadata": {
      "needs_background": "light"
     },
     "output_type": "display_data"
    }
   ],
   "source": [
    "fig, (ax0, ax1) = plt.subplots(1, 2)\n",
    "ax0.imshow(x_test[880,:], cmap='gray')\n",
    "ax1.imshow(x_test[98,:], cmap='gray')\n",
    "img = np.array((X_test[880,:],X_test[98,:]))\n",
    "pred = model.predict(img)\n",
    "print(np.argmax(pred[0]),\" \",np.argmax(pred[1]))"
   ]
  },
  {
   "cell_type": "code",
   "execution_count": 9,
   "metadata": {},
   "outputs": [
    {
     "name": "stdout",
     "output_type": "stream",
     "text": [
      "Saved model to disk\n"
     ]
    }
   ],
   "source": [
    "# serialize model to JSON\n",
    "model_json = model.to_json()\n",
    "with open(\"model_cnn_mnist.json\", \"w\") as json_file:\n",
    "    json_file.write(model_json)\n",
    "# serialize weights to HDF5\n",
    "model.save_weights(\"model_cnn_mnist.h5\")\n",
    "print(\"Saved model to disk\")"
   ]
  },
  {
   "cell_type": "code",
   "execution_count": null,
   "metadata": {},
   "outputs": [],
   "source": []
  }
 ],
 "metadata": {
  "kernelspec": {
   "display_name": "Python 3",
   "language": "python",
   "name": "python3"
  },
  "language_info": {
   "codemirror_mode": {
    "name": "ipython",
    "version": 3
   },
   "file_extension": ".py",
   "mimetype": "text/x-python",
   "name": "python",
   "nbconvert_exporter": "python",
   "pygments_lexer": "ipython3",
   "version": "3.6.8"
  }
 },
 "nbformat": 4,
 "nbformat_minor": 2
}
